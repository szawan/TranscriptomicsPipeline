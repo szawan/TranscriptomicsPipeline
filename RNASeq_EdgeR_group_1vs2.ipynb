{
 "cells": [
  {
   "cell_type": "markdown",
   "metadata": {},
   "source": [
    "# Packages"
   ]
  },
  {
   "cell_type": "code",
   "execution_count": 24,
   "metadata": {
    "vscode": {
     "languageId": "r"
    }
   },
   "outputs": [
    {
     "name": "stderr",
     "output_type": "stream",
     "text": [
      "'getOption(\"repos\")' replaces Bioconductor standard repositories, see\n",
      "'help(\"repositories\", package = \"BiocManager\")' for details.\n",
      "Replacement repositories:\n",
      "    CRAN: https://cran.r-project.org\n",
      "\n",
      "Bioconductor version 3.17 (BiocManager 1.30.22), R 4.3.0 (2023-04-21)\n",
      "\n",
      "Warning message:\n",
      "“package(s) not installed when version(s) same as or greater than current; use\n",
      "  `force = TRUE` to re-install: 'edgeR'”\n",
      "Old packages: 'aplot', 'ggfun', 'rmarkdown'\n",
      "\n",
      "'getOption(\"repos\")' replaces Bioconductor standard repositories, see\n",
      "'help(\"repositories\", package = \"BiocManager\")' for details.\n",
      "Replacement repositories:\n",
      "    CRAN: https://cran.r-project.org\n",
      "\n",
      "Bioconductor version 3.17 (BiocManager 1.30.22), R 4.3.0 (2023-04-21)\n",
      "\n",
      "Warning message:\n",
      "“package(s) not installed when version(s) same as or greater than current; use\n",
      "  `force = TRUE` to re-install: 'AnnotationDbi'”\n",
      "Old packages: 'aplot', 'ggfun', 'rmarkdown'\n",
      "\n",
      "'getOption(\"repos\")' replaces Bioconductor standard repositories, see\n",
      "'help(\"repositories\", package = \"BiocManager\")' for details.\n",
      "Replacement repositories:\n",
      "    CRAN: https://cran.r-project.org\n",
      "\n",
      "Bioconductor version 3.17 (BiocManager 1.30.22), R 4.3.0 (2023-04-21)\n",
      "\n",
      "Warning message:\n",
      "“package(s) not installed when version(s) same as or greater than current; use\n",
      "  `force = TRUE` to re-install: 'org.Mm.eg.db'”\n",
      "Old packages: 'aplot', 'ggfun', 'rmarkdown'\n",
      "\n"
     ]
    }
   ],
   "source": [
    "if (!require(\"BiocManager\", quietly = TRUE))\n",
    "    install.packages(\"BiocManager\")\n",
    "BiocManager::install(\"edgeR\")\n",
    "BiocManager::install(\"AnnotationDbi\")\n",
    "BiocManager::install(\"org.Mm.eg.db\")"
   ]
  },
  {
   "cell_type": "code",
   "execution_count": 25,
   "metadata": {
    "vscode": {
     "languageId": "r"
    }
   },
   "outputs": [
    {
     "name": "stderr",
     "output_type": "stream",
     "text": [
      "Updating HTML index of packages in '.Library'\n",
      "\n",
      "Making 'packages.html' ...\n",
      " done\n",
      "\n"
     ]
    }
   ],
   "source": [
    "install.packages(\"dplyr\")"
   ]
  },
  {
   "cell_type": "code",
   "execution_count": 26,
   "metadata": {
    "vscode": {
     "languageId": "r"
    }
   },
   "outputs": [],
   "source": [
    "library(\"edgeR\")\n",
    "library(\"dplyr\")\n",
    "library(\"AnnotationDbi\")\n",
    "library(\"org.Mm.eg.db\")"
   ]
  },
  {
   "cell_type": "markdown",
   "metadata": {},
   "source": [
    "# DEG (differentially expressed genes) using EdgeR"
   ]
  },
  {
   "cell_type": "code",
   "execution_count": 27,
   "metadata": {
    "vscode": {
     "languageId": "r"
    }
   },
   "outputs": [
    {
     "data": {
      "text/html": [
       "<table class=\"dataframe\">\n",
       "<caption>A data.frame: 6 × 10</caption>\n",
       "<thead>\n",
       "\t<tr><th></th><th scope=col>N4_1000_S10</th><th scope=col>N4_1000_S11</th><th scope=col>N4_50000_S1</th><th scope=col>N4_50000_S2</th><th scope=col>N4_50000_S3</th><th scope=col>N4_50000_S4</th><th scope=col>T4_50000_S6</th><th scope=col>T4_50000_S7</th><th scope=col>T4_50000_S8</th><th scope=col>N4_1000_S9</th></tr>\n",
       "\t<tr><th></th><th scope=col>&lt;int&gt;</th><th scope=col>&lt;int&gt;</th><th scope=col>&lt;int&gt;</th><th scope=col>&lt;int&gt;</th><th scope=col>&lt;int&gt;</th><th scope=col>&lt;int&gt;</th><th scope=col>&lt;int&gt;</th><th scope=col>&lt;int&gt;</th><th scope=col>&lt;int&gt;</th><th scope=col>&lt;int&gt;</th></tr>\n",
       "</thead>\n",
       "<tbody>\n",
       "\t<tr><th scope=row>ENSMUSG00000102693</th><td>0</td><td>0</td><td>0</td><td>0</td><td>0</td><td>0</td><td>0</td><td>0</td><td>0</td><td>0</td></tr>\n",
       "\t<tr><th scope=row>ENSMUSG00000064842</th><td>0</td><td>0</td><td>0</td><td>0</td><td>0</td><td>0</td><td>0</td><td>0</td><td>0</td><td>0</td></tr>\n",
       "\t<tr><th scope=row>ENSMUSG00000051951</th><td>0</td><td>3</td><td>0</td><td>0</td><td>0</td><td>0</td><td>0</td><td>0</td><td>3</td><td>0</td></tr>\n",
       "\t<tr><th scope=row>ENSMUSG00000102851</th><td>0</td><td>1</td><td>0</td><td>0</td><td>0</td><td>0</td><td>0</td><td>0</td><td>0</td><td>0</td></tr>\n",
       "\t<tr><th scope=row>ENSMUSG00000103377</th><td>0</td><td>0</td><td>0</td><td>0</td><td>0</td><td>0</td><td>0</td><td>0</td><td>2</td><td>0</td></tr>\n",
       "\t<tr><th scope=row>ENSMUSG00000104017</th><td>0</td><td>0</td><td>0</td><td>0</td><td>0</td><td>0</td><td>0</td><td>0</td><td>2</td><td>0</td></tr>\n",
       "</tbody>\n",
       "</table>\n"
      ],
      "text/latex": [
       "A data.frame: 6 × 10\n",
       "\\begin{tabular}{r|llllllllll}\n",
       "  & N4\\_1000\\_S10 & N4\\_1000\\_S11 & N4\\_50000\\_S1 & N4\\_50000\\_S2 & N4\\_50000\\_S3 & N4\\_50000\\_S4 & T4\\_50000\\_S6 & T4\\_50000\\_S7 & T4\\_50000\\_S8 & N4\\_1000\\_S9\\\\\n",
       "  & <int> & <int> & <int> & <int> & <int> & <int> & <int> & <int> & <int> & <int>\\\\\n",
       "\\hline\n",
       "\tENSMUSG00000102693 & 0 & 0 & 0 & 0 & 0 & 0 & 0 & 0 & 0 & 0\\\\\n",
       "\tENSMUSG00000064842 & 0 & 0 & 0 & 0 & 0 & 0 & 0 & 0 & 0 & 0\\\\\n",
       "\tENSMUSG00000051951 & 0 & 3 & 0 & 0 & 0 & 0 & 0 & 0 & 3 & 0\\\\\n",
       "\tENSMUSG00000102851 & 0 & 1 & 0 & 0 & 0 & 0 & 0 & 0 & 0 & 0\\\\\n",
       "\tENSMUSG00000103377 & 0 & 0 & 0 & 0 & 0 & 0 & 0 & 0 & 2 & 0\\\\\n",
       "\tENSMUSG00000104017 & 0 & 0 & 0 & 0 & 0 & 0 & 0 & 0 & 2 & 0\\\\\n",
       "\\end{tabular}\n"
      ],
      "text/markdown": [
       "\n",
       "A data.frame: 6 × 10\n",
       "\n",
       "| <!--/--> | N4_1000_S10 &lt;int&gt; | N4_1000_S11 &lt;int&gt; | N4_50000_S1 &lt;int&gt; | N4_50000_S2 &lt;int&gt; | N4_50000_S3 &lt;int&gt; | N4_50000_S4 &lt;int&gt; | T4_50000_S6 &lt;int&gt; | T4_50000_S7 &lt;int&gt; | T4_50000_S8 &lt;int&gt; | N4_1000_S9 &lt;int&gt; |\n",
       "|---|---|---|---|---|---|---|---|---|---|---|\n",
       "| ENSMUSG00000102693 | 0 | 0 | 0 | 0 | 0 | 0 | 0 | 0 | 0 | 0 |\n",
       "| ENSMUSG00000064842 | 0 | 0 | 0 | 0 | 0 | 0 | 0 | 0 | 0 | 0 |\n",
       "| ENSMUSG00000051951 | 0 | 3 | 0 | 0 | 0 | 0 | 0 | 0 | 3 | 0 |\n",
       "| ENSMUSG00000102851 | 0 | 1 | 0 | 0 | 0 | 0 | 0 | 0 | 0 | 0 |\n",
       "| ENSMUSG00000103377 | 0 | 0 | 0 | 0 | 0 | 0 | 0 | 0 | 2 | 0 |\n",
       "| ENSMUSG00000104017 | 0 | 0 | 0 | 0 | 0 | 0 | 0 | 0 | 2 | 0 |\n",
       "\n"
      ],
      "text/plain": [
       "                   N4_1000_S10 N4_1000_S11 N4_50000_S1 N4_50000_S2 N4_50000_S3\n",
       "ENSMUSG00000102693 0           0           0           0           0          \n",
       "ENSMUSG00000064842 0           0           0           0           0          \n",
       "ENSMUSG00000051951 0           3           0           0           0          \n",
       "ENSMUSG00000102851 0           1           0           0           0          \n",
       "ENSMUSG00000103377 0           0           0           0           0          \n",
       "ENSMUSG00000104017 0           0           0           0           0          \n",
       "                   N4_50000_S4 T4_50000_S6 T4_50000_S7 T4_50000_S8 N4_1000_S9\n",
       "ENSMUSG00000102693 0           0           0           0           0         \n",
       "ENSMUSG00000064842 0           0           0           0           0         \n",
       "ENSMUSG00000051951 0           0           0           3           0         \n",
       "ENSMUSG00000102851 0           0           0           0           0         \n",
       "ENSMUSG00000103377 0           0           0           2           0         \n",
       "ENSMUSG00000104017 0           0           0           2           0         "
      ]
     },
     "metadata": {},
     "output_type": "display_data"
    }
   ],
   "source": [
    "# Load raw count data\n",
    "raw_counts <- read.table(\"/scratch/ag5cg/2023_08_28_Emma_Teixeiro_Influenza/data/GSE130609_raw_counts_all_samples.txt\", header = TRUE, row.names = 1)\n",
    "head(raw_counts)"
   ]
  },
  {
   "cell_type": "code",
   "execution_count": 28,
   "metadata": {
    "vscode": {
     "languageId": "r"
    }
   },
   "outputs": [
    {
     "data": {
      "text/html": [
       "<table class=\"dataframe\">\n",
       "<caption>A data.frame: 6 × 7</caption>\n",
       "<thead>\n",
       "\t<tr><th></th><th scope=col>N4_50000_S1</th><th scope=col>N4_50000_S2</th><th scope=col>N4_50000_S3</th><th scope=col>N4_50000_S4</th><th scope=col>T4_50000_S6</th><th scope=col>T4_50000_S7</th><th scope=col>T4_50000_S8</th></tr>\n",
       "\t<tr><th></th><th scope=col>&lt;int&gt;</th><th scope=col>&lt;int&gt;</th><th scope=col>&lt;int&gt;</th><th scope=col>&lt;int&gt;</th><th scope=col>&lt;int&gt;</th><th scope=col>&lt;int&gt;</th><th scope=col>&lt;int&gt;</th></tr>\n",
       "</thead>\n",
       "<tbody>\n",
       "\t<tr><th scope=row>ENSMUSG00000102693</th><td>0</td><td>0</td><td>0</td><td>0</td><td>0</td><td>0</td><td>0</td></tr>\n",
       "\t<tr><th scope=row>ENSMUSG00000064842</th><td>0</td><td>0</td><td>0</td><td>0</td><td>0</td><td>0</td><td>0</td></tr>\n",
       "\t<tr><th scope=row>ENSMUSG00000051951</th><td>0</td><td>0</td><td>0</td><td>0</td><td>0</td><td>0</td><td>3</td></tr>\n",
       "\t<tr><th scope=row>ENSMUSG00000102851</th><td>0</td><td>0</td><td>0</td><td>0</td><td>0</td><td>0</td><td>0</td></tr>\n",
       "\t<tr><th scope=row>ENSMUSG00000103377</th><td>0</td><td>0</td><td>0</td><td>0</td><td>0</td><td>0</td><td>2</td></tr>\n",
       "\t<tr><th scope=row>ENSMUSG00000104017</th><td>0</td><td>0</td><td>0</td><td>0</td><td>0</td><td>0</td><td>2</td></tr>\n",
       "</tbody>\n",
       "</table>\n"
      ],
      "text/latex": [
       "A data.frame: 6 × 7\n",
       "\\begin{tabular}{r|lllllll}\n",
       "  & N4\\_50000\\_S1 & N4\\_50000\\_S2 & N4\\_50000\\_S3 & N4\\_50000\\_S4 & T4\\_50000\\_S6 & T4\\_50000\\_S7 & T4\\_50000\\_S8\\\\\n",
       "  & <int> & <int> & <int> & <int> & <int> & <int> & <int>\\\\\n",
       "\\hline\n",
       "\tENSMUSG00000102693 & 0 & 0 & 0 & 0 & 0 & 0 & 0\\\\\n",
       "\tENSMUSG00000064842 & 0 & 0 & 0 & 0 & 0 & 0 & 0\\\\\n",
       "\tENSMUSG00000051951 & 0 & 0 & 0 & 0 & 0 & 0 & 3\\\\\n",
       "\tENSMUSG00000102851 & 0 & 0 & 0 & 0 & 0 & 0 & 0\\\\\n",
       "\tENSMUSG00000103377 & 0 & 0 & 0 & 0 & 0 & 0 & 2\\\\\n",
       "\tENSMUSG00000104017 & 0 & 0 & 0 & 0 & 0 & 0 & 2\\\\\n",
       "\\end{tabular}\n"
      ],
      "text/markdown": [
       "\n",
       "A data.frame: 6 × 7\n",
       "\n",
       "| <!--/--> | N4_50000_S1 &lt;int&gt; | N4_50000_S2 &lt;int&gt; | N4_50000_S3 &lt;int&gt; | N4_50000_S4 &lt;int&gt; | T4_50000_S6 &lt;int&gt; | T4_50000_S7 &lt;int&gt; | T4_50000_S8 &lt;int&gt; |\n",
       "|---|---|---|---|---|---|---|---|\n",
       "| ENSMUSG00000102693 | 0 | 0 | 0 | 0 | 0 | 0 | 0 |\n",
       "| ENSMUSG00000064842 | 0 | 0 | 0 | 0 | 0 | 0 | 0 |\n",
       "| ENSMUSG00000051951 | 0 | 0 | 0 | 0 | 0 | 0 | 3 |\n",
       "| ENSMUSG00000102851 | 0 | 0 | 0 | 0 | 0 | 0 | 0 |\n",
       "| ENSMUSG00000103377 | 0 | 0 | 0 | 0 | 0 | 0 | 2 |\n",
       "| ENSMUSG00000104017 | 0 | 0 | 0 | 0 | 0 | 0 | 2 |\n",
       "\n"
      ],
      "text/plain": [
       "                   N4_50000_S1 N4_50000_S2 N4_50000_S3 N4_50000_S4 T4_50000_S6\n",
       "ENSMUSG00000102693 0           0           0           0           0          \n",
       "ENSMUSG00000064842 0           0           0           0           0          \n",
       "ENSMUSG00000051951 0           0           0           0           0          \n",
       "ENSMUSG00000102851 0           0           0           0           0          \n",
       "ENSMUSG00000103377 0           0           0           0           0          \n",
       "ENSMUSG00000104017 0           0           0           0           0          \n",
       "                   T4_50000_S7 T4_50000_S8\n",
       "ENSMUSG00000102693 0           0          \n",
       "ENSMUSG00000064842 0           0          \n",
       "ENSMUSG00000051951 0           3          \n",
       "ENSMUSG00000102851 0           0          \n",
       "ENSMUSG00000103377 0           2          \n",
       "ENSMUSG00000104017 0           2          "
      ]
     },
     "metadata": {},
     "output_type": "display_data"
    }
   ],
   "source": [
    "# selecting required coloums only, IF NEEDED\n",
    "\n",
    "raw_count_selected <- raw_counts[,c(\"N4_50000_S1\",\"N4_50000_S2\",\"N4_50000_S3\",\"N4_50000_S4\",\"T4_50000_S6\",\"T4_50000_S7\",\"T4_50000_S8\")]\n",
    "head(raw_count_selected)"
   ]
  },
  {
   "cell_type": "code",
   "execution_count": 29,
   "metadata": {
    "vscode": {
     "languageId": "r"
    }
   },
   "outputs": [
    {
     "name": "stdout",
     "output_type": "stream",
     "text": [
      " Factor w/ 2 levels \"1\",\"2\": 1 1 1 1 2 2 2\n"
     ]
    }
   ],
   "source": [
    "# create groups for the samples\n",
    "# here we have 2 groups for this analysis (original dataset had 3, we selected 2)\n",
    "\n",
    "group <- factor(c('1','1','1','1','2','2','2'))\n",
    "\n",
    "# for this dataset we had 3 groups, so below 2 lines are if we are using these 3 groups\n",
    "# group <- factor(c('N4_1000','N4_1000','N4_50000','N4_50000','N4_50000','N4_50000','T4_50000','T4_50000','T4_50000','N4_1000'))\n",
    "# group <- factor(c('3','3','1','1','1','1','2','2','2','3'))\n",
    "\n",
    "str(group)"
   ]
  },
  {
   "cell_type": "markdown",
   "metadata": {},
   "source": []
  },
  {
   "cell_type": "code",
   "execution_count": 30,
   "metadata": {
    "vscode": {
     "languageId": "r"
    }
   },
   "outputs": [
    {
     "data": {
      "text/html": [
       "<dl>\n",
       "\t<dt>$counts</dt>\n",
       "\t\t<dd><table class=\"dataframe\">\n",
       "<caption>A matrix: 6 × 7 of type int</caption>\n",
       "<thead>\n",
       "\t<tr><th></th><th scope=col>N4_50000_S1</th><th scope=col>N4_50000_S2</th><th scope=col>N4_50000_S3</th><th scope=col>N4_50000_S4</th><th scope=col>T4_50000_S6</th><th scope=col>T4_50000_S7</th><th scope=col>T4_50000_S8</th></tr>\n",
       "</thead>\n",
       "<tbody>\n",
       "\t<tr><th scope=row>ENSMUSG00000102693</th><td>0</td><td>0</td><td>0</td><td>0</td><td>0</td><td>0</td><td>0</td></tr>\n",
       "\t<tr><th scope=row>ENSMUSG00000064842</th><td>0</td><td>0</td><td>0</td><td>0</td><td>0</td><td>0</td><td>0</td></tr>\n",
       "\t<tr><th scope=row>ENSMUSG00000051951</th><td>0</td><td>0</td><td>0</td><td>0</td><td>0</td><td>0</td><td>3</td></tr>\n",
       "\t<tr><th scope=row>ENSMUSG00000102851</th><td>0</td><td>0</td><td>0</td><td>0</td><td>0</td><td>0</td><td>0</td></tr>\n",
       "\t<tr><th scope=row>ENSMUSG00000103377</th><td>0</td><td>0</td><td>0</td><td>0</td><td>0</td><td>0</td><td>2</td></tr>\n",
       "\t<tr><th scope=row>ENSMUSG00000104017</th><td>0</td><td>0</td><td>0</td><td>0</td><td>0</td><td>0</td><td>2</td></tr>\n",
       "</tbody>\n",
       "</table>\n",
       "</dd>\n",
       "\t<dt>$samples</dt>\n",
       "\t\t<dd><table class=\"dataframe\">\n",
       "<caption>A data.frame: 7 × 3</caption>\n",
       "<thead>\n",
       "\t<tr><th></th><th scope=col>group</th><th scope=col>lib.size</th><th scope=col>norm.factors</th></tr>\n",
       "\t<tr><th></th><th scope=col>&lt;fct&gt;</th><th scope=col>&lt;dbl&gt;</th><th scope=col>&lt;dbl&gt;</th></tr>\n",
       "</thead>\n",
       "<tbody>\n",
       "\t<tr><th scope=row>N4_50000_S1</th><td>1</td><td>5760708</td><td>1</td></tr>\n",
       "\t<tr><th scope=row>N4_50000_S2</th><td>1</td><td>5850581</td><td>1</td></tr>\n",
       "\t<tr><th scope=row>N4_50000_S3</th><td>1</td><td>5921966</td><td>1</td></tr>\n",
       "\t<tr><th scope=row>N4_50000_S4</th><td>1</td><td>5724311</td><td>1</td></tr>\n",
       "\t<tr><th scope=row>T4_50000_S6</th><td>2</td><td>5290806</td><td>1</td></tr>\n",
       "\t<tr><th scope=row>T4_50000_S7</th><td>2</td><td>5352408</td><td>1</td></tr>\n",
       "\t<tr><th scope=row>T4_50000_S8</th><td>2</td><td>4788787</td><td>1</td></tr>\n",
       "</tbody>\n",
       "</table>\n",
       "</dd>\n",
       "</dl>\n"
      ],
      "text/latex": [
       "\\begin{description}\n",
       "\\item[\\$counts] A matrix: 6 × 7 of type int\n",
       "\\begin{tabular}{r|lllllll}\n",
       "  & N4\\_50000\\_S1 & N4\\_50000\\_S2 & N4\\_50000\\_S3 & N4\\_50000\\_S4 & T4\\_50000\\_S6 & T4\\_50000\\_S7 & T4\\_50000\\_S8\\\\\n",
       "\\hline\n",
       "\tENSMUSG00000102693 & 0 & 0 & 0 & 0 & 0 & 0 & 0\\\\\n",
       "\tENSMUSG00000064842 & 0 & 0 & 0 & 0 & 0 & 0 & 0\\\\\n",
       "\tENSMUSG00000051951 & 0 & 0 & 0 & 0 & 0 & 0 & 3\\\\\n",
       "\tENSMUSG00000102851 & 0 & 0 & 0 & 0 & 0 & 0 & 0\\\\\n",
       "\tENSMUSG00000103377 & 0 & 0 & 0 & 0 & 0 & 0 & 2\\\\\n",
       "\tENSMUSG00000104017 & 0 & 0 & 0 & 0 & 0 & 0 & 2\\\\\n",
       "\\end{tabular}\n",
       "\n",
       "\\item[\\$samples] A data.frame: 7 × 3\n",
       "\\begin{tabular}{r|lll}\n",
       "  & group & lib.size & norm.factors\\\\\n",
       "  & <fct> & <dbl> & <dbl>\\\\\n",
       "\\hline\n",
       "\tN4\\_50000\\_S1 & 1 & 5760708 & 1\\\\\n",
       "\tN4\\_50000\\_S2 & 1 & 5850581 & 1\\\\\n",
       "\tN4\\_50000\\_S3 & 1 & 5921966 & 1\\\\\n",
       "\tN4\\_50000\\_S4 & 1 & 5724311 & 1\\\\\n",
       "\tT4\\_50000\\_S6 & 2 & 5290806 & 1\\\\\n",
       "\tT4\\_50000\\_S7 & 2 & 5352408 & 1\\\\\n",
       "\tT4\\_50000\\_S8 & 2 & 4788787 & 1\\\\\n",
       "\\end{tabular}\n",
       "\n",
       "\\end{description}\n"
      ],
      "text/markdown": [
       "$counts\n",
       ":   \n",
       "A matrix: 6 × 7 of type int\n",
       "\n",
       "| <!--/--> | N4_50000_S1 | N4_50000_S2 | N4_50000_S3 | N4_50000_S4 | T4_50000_S6 | T4_50000_S7 | T4_50000_S8 |\n",
       "|---|---|---|---|---|---|---|---|\n",
       "| ENSMUSG00000102693 | 0 | 0 | 0 | 0 | 0 | 0 | 0 |\n",
       "| ENSMUSG00000064842 | 0 | 0 | 0 | 0 | 0 | 0 | 0 |\n",
       "| ENSMUSG00000051951 | 0 | 0 | 0 | 0 | 0 | 0 | 3 |\n",
       "| ENSMUSG00000102851 | 0 | 0 | 0 | 0 | 0 | 0 | 0 |\n",
       "| ENSMUSG00000103377 | 0 | 0 | 0 | 0 | 0 | 0 | 2 |\n",
       "| ENSMUSG00000104017 | 0 | 0 | 0 | 0 | 0 | 0 | 2 |\n",
       "\n",
       "\n",
       "$samples\n",
       ":   \n",
       "A data.frame: 7 × 3\n",
       "\n",
       "| <!--/--> | group &lt;fct&gt; | lib.size &lt;dbl&gt; | norm.factors &lt;dbl&gt; |\n",
       "|---|---|---|---|\n",
       "| N4_50000_S1 | 1 | 5760708 | 1 |\n",
       "| N4_50000_S2 | 1 | 5850581 | 1 |\n",
       "| N4_50000_S3 | 1 | 5921966 | 1 |\n",
       "| N4_50000_S4 | 1 | 5724311 | 1 |\n",
       "| T4_50000_S6 | 2 | 5290806 | 1 |\n",
       "| T4_50000_S7 | 2 | 5352408 | 1 |\n",
       "| T4_50000_S8 | 2 | 4788787 | 1 |\n",
       "\n",
       "\n",
       "\n",
       "\n"
      ],
      "text/plain": [
       "An object of class \"DGEList\"\n",
       "$counts\n",
       "                   N4_50000_S1 N4_50000_S2 N4_50000_S3 N4_50000_S4 T4_50000_S6\n",
       "ENSMUSG00000102693           0           0           0           0           0\n",
       "ENSMUSG00000064842           0           0           0           0           0\n",
       "ENSMUSG00000051951           0           0           0           0           0\n",
       "ENSMUSG00000102851           0           0           0           0           0\n",
       "ENSMUSG00000103377           0           0           0           0           0\n",
       "ENSMUSG00000104017           0           0           0           0           0\n",
       "                   T4_50000_S7 T4_50000_S8\n",
       "ENSMUSG00000102693           0           0\n",
       "ENSMUSG00000064842           0           0\n",
       "ENSMUSG00000051951           0           3\n",
       "ENSMUSG00000102851           0           0\n",
       "ENSMUSG00000103377           0           2\n",
       "ENSMUSG00000104017           0           2\n",
       "\n",
       "$samples\n",
       "            group lib.size norm.factors\n",
       "N4_50000_S1     1  5760708            1\n",
       "N4_50000_S2     1  5850581            1\n",
       "N4_50000_S3     1  5921966            1\n",
       "N4_50000_S4     1  5724311            1\n",
       "T4_50000_S6     2  5290806            1\n",
       "T4_50000_S7     2  5352408            1\n",
       "T4_50000_S8     2  4788787            1\n"
      ]
     },
     "metadata": {},
     "output_type": "display_data"
    },
    {
     "name": "stdout",
     "output_type": "stream",
     "text": [
      "Formal class 'DGEList' [package \"edgeR\"] with 1 slot\n",
      "  ..@ .Data:List of 2\n",
      "  .. ..$ : int [1:49671, 1:7] 0 0 0 0 0 0 0 0 0 2 ...\n",
      "  .. .. ..- attr(*, \"dimnames\")=List of 2\n",
      "  .. .. .. ..$ : chr [1:49671] \"ENSMUSG00000102693\" \"ENSMUSG00000064842\" \"ENSMUSG00000051951\" \"ENSMUSG00000102851\" ...\n",
      "  .. .. .. ..$ : chr [1:7] \"N4_50000_S1\" \"N4_50000_S2\" \"N4_50000_S3\" \"N4_50000_S4\" ...\n",
      "  .. ..$ :'data.frame':\t7 obs. of  3 variables:\n",
      "  .. .. ..$ group       : Factor w/ 2 levels \"1\",\"2\": 1 1 1 1 2 2 2\n",
      "  .. .. ..$ lib.size    : num [1:7] 5760708 5850581 5921966 5724311 5290806 ...\n",
      "  .. .. ..$ norm.factors: num [1:7] 1 1 1 1 1 1 1\n",
      "  ..$ names: chr [1:2] \"counts\" \"samples\"\n"
     ]
    }
   ],
   "source": [
    "# dgeGlm - Digital Gene Expression Generalized Linear Model\n",
    "\n",
    "# The DGEList object holds the dataset to be analysed by edgeR and the subsequent calculations performed on the dataset.\n",
    "# Specifically it contains: counts. numeric matrix containing the read counts.\n",
    "\n",
    "dgeGlm <- DGEList(counts=raw_count_selected, group =group)\n",
    "head(dgeGlm)\n",
    "str(dgeGlm)"
   ]
  },
  {
   "cell_type": "code",
   "execution_count": 31,
   "metadata": {
    "vscode": {
     "languageId": "r"
    }
   },
   "outputs": [
    {
     "data": {
      "text/html": [
       "<dl>\n",
       "\t<dt>$counts</dt>\n",
       "\t\t<dd><table class=\"dataframe\">\n",
       "<caption>A matrix: 6 × 7 of type int</caption>\n",
       "<thead>\n",
       "\t<tr><th></th><th scope=col>N4_50000_S1</th><th scope=col>N4_50000_S2</th><th scope=col>N4_50000_S3</th><th scope=col>N4_50000_S4</th><th scope=col>T4_50000_S6</th><th scope=col>T4_50000_S7</th><th scope=col>T4_50000_S8</th></tr>\n",
       "</thead>\n",
       "<tbody>\n",
       "\t<tr><th scope=row>ENSMUSG00000102693</th><td>0</td><td>0</td><td>0</td><td>0</td><td>0</td><td>0</td><td>0</td></tr>\n",
       "\t<tr><th scope=row>ENSMUSG00000064842</th><td>0</td><td>0</td><td>0</td><td>0</td><td>0</td><td>0</td><td>0</td></tr>\n",
       "\t<tr><th scope=row>ENSMUSG00000051951</th><td>0</td><td>0</td><td>0</td><td>0</td><td>0</td><td>0</td><td>3</td></tr>\n",
       "\t<tr><th scope=row>ENSMUSG00000102851</th><td>0</td><td>0</td><td>0</td><td>0</td><td>0</td><td>0</td><td>0</td></tr>\n",
       "\t<tr><th scope=row>ENSMUSG00000103377</th><td>0</td><td>0</td><td>0</td><td>0</td><td>0</td><td>0</td><td>2</td></tr>\n",
       "\t<tr><th scope=row>ENSMUSG00000104017</th><td>0</td><td>0</td><td>0</td><td>0</td><td>0</td><td>0</td><td>2</td></tr>\n",
       "</tbody>\n",
       "</table>\n",
       "</dd>\n",
       "\t<dt>$samples</dt>\n",
       "\t\t<dd><table class=\"dataframe\">\n",
       "<caption>A data.frame: 7 × 3</caption>\n",
       "<thead>\n",
       "\t<tr><th></th><th scope=col>group</th><th scope=col>lib.size</th><th scope=col>norm.factors</th></tr>\n",
       "\t<tr><th></th><th scope=col>&lt;fct&gt;</th><th scope=col>&lt;dbl&gt;</th><th scope=col>&lt;dbl&gt;</th></tr>\n",
       "</thead>\n",
       "<tbody>\n",
       "\t<tr><th scope=row>N4_50000_S1</th><td>1</td><td>5760708</td><td>1.0390686</td></tr>\n",
       "\t<tr><th scope=row>N4_50000_S2</th><td>1</td><td>5850581</td><td>1.0218323</td></tr>\n",
       "\t<tr><th scope=row>N4_50000_S3</th><td>1</td><td>5921966</td><td>1.0262529</td></tr>\n",
       "\t<tr><th scope=row>N4_50000_S4</th><td>1</td><td>5724311</td><td>0.9993120</td></tr>\n",
       "\t<tr><th scope=row>T4_50000_S6</th><td>2</td><td>5290806</td><td>0.9762128</td></tr>\n",
       "\t<tr><th scope=row>T4_50000_S7</th><td>2</td><td>5352408</td><td>0.9531082</td></tr>\n",
       "\t<tr><th scope=row>T4_50000_S8</th><td>2</td><td>4788787</td><td>0.9870382</td></tr>\n",
       "</tbody>\n",
       "</table>\n",
       "</dd>\n",
       "</dl>\n"
      ],
      "text/latex": [
       "\\begin{description}\n",
       "\\item[\\$counts] A matrix: 6 × 7 of type int\n",
       "\\begin{tabular}{r|lllllll}\n",
       "  & N4\\_50000\\_S1 & N4\\_50000\\_S2 & N4\\_50000\\_S3 & N4\\_50000\\_S4 & T4\\_50000\\_S6 & T4\\_50000\\_S7 & T4\\_50000\\_S8\\\\\n",
       "\\hline\n",
       "\tENSMUSG00000102693 & 0 & 0 & 0 & 0 & 0 & 0 & 0\\\\\n",
       "\tENSMUSG00000064842 & 0 & 0 & 0 & 0 & 0 & 0 & 0\\\\\n",
       "\tENSMUSG00000051951 & 0 & 0 & 0 & 0 & 0 & 0 & 3\\\\\n",
       "\tENSMUSG00000102851 & 0 & 0 & 0 & 0 & 0 & 0 & 0\\\\\n",
       "\tENSMUSG00000103377 & 0 & 0 & 0 & 0 & 0 & 0 & 2\\\\\n",
       "\tENSMUSG00000104017 & 0 & 0 & 0 & 0 & 0 & 0 & 2\\\\\n",
       "\\end{tabular}\n",
       "\n",
       "\\item[\\$samples] A data.frame: 7 × 3\n",
       "\\begin{tabular}{r|lll}\n",
       "  & group & lib.size & norm.factors\\\\\n",
       "  & <fct> & <dbl> & <dbl>\\\\\n",
       "\\hline\n",
       "\tN4\\_50000\\_S1 & 1 & 5760708 & 1.0390686\\\\\n",
       "\tN4\\_50000\\_S2 & 1 & 5850581 & 1.0218323\\\\\n",
       "\tN4\\_50000\\_S3 & 1 & 5921966 & 1.0262529\\\\\n",
       "\tN4\\_50000\\_S4 & 1 & 5724311 & 0.9993120\\\\\n",
       "\tT4\\_50000\\_S6 & 2 & 5290806 & 0.9762128\\\\\n",
       "\tT4\\_50000\\_S7 & 2 & 5352408 & 0.9531082\\\\\n",
       "\tT4\\_50000\\_S8 & 2 & 4788787 & 0.9870382\\\\\n",
       "\\end{tabular}\n",
       "\n",
       "\\end{description}\n"
      ],
      "text/markdown": [
       "$counts\n",
       ":   \n",
       "A matrix: 6 × 7 of type int\n",
       "\n",
       "| <!--/--> | N4_50000_S1 | N4_50000_S2 | N4_50000_S3 | N4_50000_S4 | T4_50000_S6 | T4_50000_S7 | T4_50000_S8 |\n",
       "|---|---|---|---|---|---|---|---|\n",
       "| ENSMUSG00000102693 | 0 | 0 | 0 | 0 | 0 | 0 | 0 |\n",
       "| ENSMUSG00000064842 | 0 | 0 | 0 | 0 | 0 | 0 | 0 |\n",
       "| ENSMUSG00000051951 | 0 | 0 | 0 | 0 | 0 | 0 | 3 |\n",
       "| ENSMUSG00000102851 | 0 | 0 | 0 | 0 | 0 | 0 | 0 |\n",
       "| ENSMUSG00000103377 | 0 | 0 | 0 | 0 | 0 | 0 | 2 |\n",
       "| ENSMUSG00000104017 | 0 | 0 | 0 | 0 | 0 | 0 | 2 |\n",
       "\n",
       "\n",
       "$samples\n",
       ":   \n",
       "A data.frame: 7 × 3\n",
       "\n",
       "| <!--/--> | group &lt;fct&gt; | lib.size &lt;dbl&gt; | norm.factors &lt;dbl&gt; |\n",
       "|---|---|---|---|\n",
       "| N4_50000_S1 | 1 | 5760708 | 1.0390686 |\n",
       "| N4_50000_S2 | 1 | 5850581 | 1.0218323 |\n",
       "| N4_50000_S3 | 1 | 5921966 | 1.0262529 |\n",
       "| N4_50000_S4 | 1 | 5724311 | 0.9993120 |\n",
       "| T4_50000_S6 | 2 | 5290806 | 0.9762128 |\n",
       "| T4_50000_S7 | 2 | 5352408 | 0.9531082 |\n",
       "| T4_50000_S8 | 2 | 4788787 | 0.9870382 |\n",
       "\n",
       "\n",
       "\n",
       "\n"
      ],
      "text/plain": [
       "An object of class \"DGEList\"\n",
       "$counts\n",
       "                   N4_50000_S1 N4_50000_S2 N4_50000_S3 N4_50000_S4 T4_50000_S6\n",
       "ENSMUSG00000102693           0           0           0           0           0\n",
       "ENSMUSG00000064842           0           0           0           0           0\n",
       "ENSMUSG00000051951           0           0           0           0           0\n",
       "ENSMUSG00000102851           0           0           0           0           0\n",
       "ENSMUSG00000103377           0           0           0           0           0\n",
       "ENSMUSG00000104017           0           0           0           0           0\n",
       "                   T4_50000_S7 T4_50000_S8\n",
       "ENSMUSG00000102693           0           0\n",
       "ENSMUSG00000064842           0           0\n",
       "ENSMUSG00000051951           0           3\n",
       "ENSMUSG00000102851           0           0\n",
       "ENSMUSG00000103377           0           2\n",
       "ENSMUSG00000104017           0           2\n",
       "\n",
       "$samples\n",
       "            group lib.size norm.factors\n",
       "N4_50000_S1     1  5760708    1.0390686\n",
       "N4_50000_S2     1  5850581    1.0218323\n",
       "N4_50000_S3     1  5921966    1.0262529\n",
       "N4_50000_S4     1  5724311    0.9993120\n",
       "T4_50000_S6     2  5290806    0.9762128\n",
       "T4_50000_S7     2  5352408    0.9531082\n",
       "T4_50000_S8     2  4788787    0.9870382\n"
      ]
     },
     "metadata": {},
     "output_type": "display_data"
    }
   ],
   "source": [
    "dgeGlm_normalized <- calcNormFactors(dgeGlm, method = \"TMM\") # method=\"TMM\" is the weighted trimmed mean of M-values\n",
    "head(dgeGlm_normalized)"
   ]
  },
  {
   "cell_type": "code",
   "execution_count": 37,
   "metadata": {
    "vscode": {
     "languageId": "r"
    }
   },
   "outputs": [
    {
     "name": "stdout",
     "output_type": "stream",
     "text": [
      " Named logi [1:13198] TRUE TRUE TRUE TRUE TRUE TRUE ...\n",
      " - attr(*, \"names\")= chr [1:13198] \"ENSMUSG00000102948\" \"ENSMUSG00000102269\" \"ENSMUSG00000098104\" \"ENSMUSG00000102175\" ...\n"
     ]
    },
    {
     "data": {
      "text/html": [
       "<style>\n",
       ".dl-inline {width: auto; margin:0; padding: 0}\n",
       ".dl-inline>dt, .dl-inline>dd {float: none; width: auto; display: inline-block}\n",
       ".dl-inline>dt::after {content: \":\\0020\"; padding-right: .5ex}\n",
       ".dl-inline>dt:not(:first-of-type) {padding-left: .5ex}\n",
       "</style><dl class=dl-inline><dt>ENSMUSG00000102948</dt><dd>TRUE</dd><dt>ENSMUSG00000102269</dt><dd>TRUE</dd><dt>ENSMUSG00000098104</dt><dd>TRUE</dd><dt>ENSMUSG00000102175</dt><dd>TRUE</dd><dt>ENSMUSG00000103922</dt><dd>TRUE</dd><dt>ENSMUSG00000033845</dt><dd>TRUE</dd></dl>\n"
      ],
      "text/latex": [
       "\\begin{description*}\n",
       "\\item[ENSMUSG00000102948] TRUE\n",
       "\\item[ENSMUSG00000102269] TRUE\n",
       "\\item[ENSMUSG00000098104] TRUE\n",
       "\\item[ENSMUSG00000102175] TRUE\n",
       "\\item[ENSMUSG00000103922] TRUE\n",
       "\\item[ENSMUSG00000033845] TRUE\n",
       "\\end{description*}\n"
      ],
      "text/markdown": [
       "ENSMUSG00000102948\n",
       ":   TRUEENSMUSG00000102269\n",
       ":   TRUEENSMUSG00000098104\n",
       ":   TRUEENSMUSG00000102175\n",
       ":   TRUEENSMUSG00000103922\n",
       ":   TRUEENSMUSG00000033845\n",
       ":   TRUE\n",
       "\n"
      ],
      "text/plain": [
       "ENSMUSG00000102948 ENSMUSG00000102269 ENSMUSG00000098104 ENSMUSG00000102175 \n",
       "              TRUE               TRUE               TRUE               TRUE \n",
       "ENSMUSG00000103922 ENSMUSG00000033845 \n",
       "              TRUE               TRUE "
      ]
     },
     "metadata": {},
     "output_type": "display_data"
    },
    {
     "data": {
      "text/html": [
       "<dl>\n",
       "\t<dt>$counts</dt>\n",
       "\t\t<dd><table class=\"dataframe\">\n",
       "<caption>A matrix: 6 × 7 of type int</caption>\n",
       "<thead>\n",
       "\t<tr><th></th><th scope=col>N4_50000_S1</th><th scope=col>N4_50000_S2</th><th scope=col>N4_50000_S3</th><th scope=col>N4_50000_S4</th><th scope=col>T4_50000_S6</th><th scope=col>T4_50000_S7</th><th scope=col>T4_50000_S8</th></tr>\n",
       "</thead>\n",
       "<tbody>\n",
       "\t<tr><th scope=row>ENSMUSG00000102948</th><td> 12</td><td> 20</td><td> 13</td><td> 16</td><td> 12</td><td>  7</td><td> 38</td></tr>\n",
       "\t<tr><th scope=row>ENSMUSG00000102269</th><td> 40</td><td> 35</td><td> 22</td><td> 23</td><td> 25</td><td> 33</td><td> 22</td></tr>\n",
       "\t<tr><th scope=row>ENSMUSG00000098104</th><td>384</td><td>445</td><td>351</td><td>444</td><td>406</td><td>380</td><td>357</td></tr>\n",
       "\t<tr><th scope=row>ENSMUSG00000102175</th><td> 34</td><td> 21</td><td> 28</td><td> 24</td><td> 17</td><td> 19</td><td> 16</td></tr>\n",
       "\t<tr><th scope=row>ENSMUSG00000103922</th><td> 78</td><td> 59</td><td> 43</td><td> 58</td><td> 62</td><td> 84</td><td> 33</td></tr>\n",
       "\t<tr><th scope=row>ENSMUSG00000033845</th><td>144</td><td>185</td><td>211</td><td>176</td><td>179</td><td>172</td><td>163</td></tr>\n",
       "</tbody>\n",
       "</table>\n",
       "</dd>\n",
       "\t<dt>$samples</dt>\n",
       "\t\t<dd><table class=\"dataframe\">\n",
       "<caption>A data.frame: 7 × 3</caption>\n",
       "<thead>\n",
       "\t<tr><th></th><th scope=col>group</th><th scope=col>lib.size</th><th scope=col>norm.factors</th></tr>\n",
       "\t<tr><th></th><th scope=col>&lt;fct&gt;</th><th scope=col>&lt;dbl&gt;</th><th scope=col>&lt;dbl&gt;</th></tr>\n",
       "</thead>\n",
       "<tbody>\n",
       "\t<tr><th scope=row>N4_50000_S1</th><td>1</td><td>5760708</td><td>1.0390686</td></tr>\n",
       "\t<tr><th scope=row>N4_50000_S2</th><td>1</td><td>5850581</td><td>1.0218323</td></tr>\n",
       "\t<tr><th scope=row>N4_50000_S3</th><td>1</td><td>5921966</td><td>1.0262529</td></tr>\n",
       "\t<tr><th scope=row>N4_50000_S4</th><td>1</td><td>5724311</td><td>0.9993120</td></tr>\n",
       "\t<tr><th scope=row>T4_50000_S6</th><td>2</td><td>5290806</td><td>0.9762128</td></tr>\n",
       "\t<tr><th scope=row>T4_50000_S7</th><td>2</td><td>5352408</td><td>0.9531082</td></tr>\n",
       "\t<tr><th scope=row>T4_50000_S8</th><td>2</td><td>4788787</td><td>0.9870382</td></tr>\n",
       "</tbody>\n",
       "</table>\n",
       "</dd>\n",
       "</dl>\n"
      ],
      "text/latex": [
       "\\begin{description}\n",
       "\\item[\\$counts] A matrix: 6 × 7 of type int\n",
       "\\begin{tabular}{r|lllllll}\n",
       "  & N4\\_50000\\_S1 & N4\\_50000\\_S2 & N4\\_50000\\_S3 & N4\\_50000\\_S4 & T4\\_50000\\_S6 & T4\\_50000\\_S7 & T4\\_50000\\_S8\\\\\n",
       "\\hline\n",
       "\tENSMUSG00000102948 &  12 &  20 &  13 &  16 &  12 &   7 &  38\\\\\n",
       "\tENSMUSG00000102269 &  40 &  35 &  22 &  23 &  25 &  33 &  22\\\\\n",
       "\tENSMUSG00000098104 & 384 & 445 & 351 & 444 & 406 & 380 & 357\\\\\n",
       "\tENSMUSG00000102175 &  34 &  21 &  28 &  24 &  17 &  19 &  16\\\\\n",
       "\tENSMUSG00000103922 &  78 &  59 &  43 &  58 &  62 &  84 &  33\\\\\n",
       "\tENSMUSG00000033845 & 144 & 185 & 211 & 176 & 179 & 172 & 163\\\\\n",
       "\\end{tabular}\n",
       "\n",
       "\\item[\\$samples] A data.frame: 7 × 3\n",
       "\\begin{tabular}{r|lll}\n",
       "  & group & lib.size & norm.factors\\\\\n",
       "  & <fct> & <dbl> & <dbl>\\\\\n",
       "\\hline\n",
       "\tN4\\_50000\\_S1 & 1 & 5760708 & 1.0390686\\\\\n",
       "\tN4\\_50000\\_S2 & 1 & 5850581 & 1.0218323\\\\\n",
       "\tN4\\_50000\\_S3 & 1 & 5921966 & 1.0262529\\\\\n",
       "\tN4\\_50000\\_S4 & 1 & 5724311 & 0.9993120\\\\\n",
       "\tT4\\_50000\\_S6 & 2 & 5290806 & 0.9762128\\\\\n",
       "\tT4\\_50000\\_S7 & 2 & 5352408 & 0.9531082\\\\\n",
       "\tT4\\_50000\\_S8 & 2 & 4788787 & 0.9870382\\\\\n",
       "\\end{tabular}\n",
       "\n",
       "\\end{description}\n"
      ],
      "text/markdown": [
       "$counts\n",
       ":   \n",
       "A matrix: 6 × 7 of type int\n",
       "\n",
       "| <!--/--> | N4_50000_S1 | N4_50000_S2 | N4_50000_S3 | N4_50000_S4 | T4_50000_S6 | T4_50000_S7 | T4_50000_S8 |\n",
       "|---|---|---|---|---|---|---|---|\n",
       "| ENSMUSG00000102948 |  12 |  20 |  13 |  16 |  12 |   7 |  38 |\n",
       "| ENSMUSG00000102269 |  40 |  35 |  22 |  23 |  25 |  33 |  22 |\n",
       "| ENSMUSG00000098104 | 384 | 445 | 351 | 444 | 406 | 380 | 357 |\n",
       "| ENSMUSG00000102175 |  34 |  21 |  28 |  24 |  17 |  19 |  16 |\n",
       "| ENSMUSG00000103922 |  78 |  59 |  43 |  58 |  62 |  84 |  33 |\n",
       "| ENSMUSG00000033845 | 144 | 185 | 211 | 176 | 179 | 172 | 163 |\n",
       "\n",
       "\n",
       "$samples\n",
       ":   \n",
       "A data.frame: 7 × 3\n",
       "\n",
       "| <!--/--> | group &lt;fct&gt; | lib.size &lt;dbl&gt; | norm.factors &lt;dbl&gt; |\n",
       "|---|---|---|---|\n",
       "| N4_50000_S1 | 1 | 5760708 | 1.0390686 |\n",
       "| N4_50000_S2 | 1 | 5850581 | 1.0218323 |\n",
       "| N4_50000_S3 | 1 | 5921966 | 1.0262529 |\n",
       "| N4_50000_S4 | 1 | 5724311 | 0.9993120 |\n",
       "| T4_50000_S6 | 2 | 5290806 | 0.9762128 |\n",
       "| T4_50000_S7 | 2 | 5352408 | 0.9531082 |\n",
       "| T4_50000_S8 | 2 | 4788787 | 0.9870382 |\n",
       "\n",
       "\n",
       "\n",
       "\n"
      ],
      "text/plain": [
       "An object of class \"DGEList\"\n",
       "$counts\n",
       "                   N4_50000_S1 N4_50000_S2 N4_50000_S3 N4_50000_S4 T4_50000_S6\n",
       "ENSMUSG00000102948          12          20          13          16          12\n",
       "ENSMUSG00000102269          40          35          22          23          25\n",
       "ENSMUSG00000098104         384         445         351         444         406\n",
       "ENSMUSG00000102175          34          21          28          24          17\n",
       "ENSMUSG00000103922          78          59          43          58          62\n",
       "ENSMUSG00000033845         144         185         211         176         179\n",
       "                   T4_50000_S7 T4_50000_S8\n",
       "ENSMUSG00000102948           7          38\n",
       "ENSMUSG00000102269          33          22\n",
       "ENSMUSG00000098104         380         357\n",
       "ENSMUSG00000102175          19          16\n",
       "ENSMUSG00000103922          84          33\n",
       "ENSMUSG00000033845         172         163\n",
       "\n",
       "$samples\n",
       "            group lib.size norm.factors\n",
       "N4_50000_S1     1  5760708    1.0390686\n",
       "N4_50000_S2     1  5850581    1.0218323\n",
       "N4_50000_S3     1  5921966    1.0262529\n",
       "N4_50000_S4     1  5724311    0.9993120\n",
       "T4_50000_S6     2  5290806    0.9762128\n",
       "T4_50000_S7     2  5352408    0.9531082\n",
       "T4_50000_S8     2  4788787    0.9870382\n"
      ]
     },
     "metadata": {},
     "output_type": "display_data"
    }
   ],
   "source": [
    "# I do not understand that clearly yet, so NEED TO REVISIT\n",
    "\n",
    "# calculates the CPM (counts per million) values, checks if they are greater than 2,\n",
    "# and then checks if at least 4 samples meet this condition for each gene\n",
    "\n",
    "keep <- rowSums(cpm(dgeGlm_normalized)>2) >= 4\n",
    "str(keep)\n",
    "head(keep)\n",
    "\n",
    "dgeGlm_normalized <- dgeGlm_normalized[keep,]\n",
    "head(dgeGlm_normalized)\n",
    "write.csv(dgeGlm_normalized$counts, \"Selected_Samples_Group\")\n"
   ]
  },
  {
   "cell_type": "code",
   "execution_count": 33,
   "metadata": {
    "vscode": {
     "languageId": "r"
    }
   },
   "outputs": [
    {
     "name": "stdout",
     "output_type": "stream",
     "text": [
      "  (Intercept) group2\n",
      "1           1      0\n",
      "2           1      0\n",
      "3           1      0\n",
      "4           1      0\n",
      "5           1      1\n",
      "6           1      1\n",
      "7           1      1\n",
      "attr(,\"assign\")\n",
      "[1] 0 1\n",
      "attr(,\"contrasts\")\n",
      "attr(,\"contrasts\")$group\n",
      "[1] \"contr.treatment\"\n",
      "\n"
     ]
    }
   ],
   "source": [
    "# model.matrix creates a design (or model) matrix, e.g., by expanding factors to a set of dummy variables \n",
    "design <- model.matrix(~group)\n",
    "print(design)"
   ]
  },
  {
   "cell_type": "code",
   "execution_count": 34,
   "metadata": {
    "vscode": {
     "languageId": "r"
    }
   },
   "outputs": [
    {
     "name": "stdout",
     "output_type": "stream",
     "text": [
      "Disp = 0.01812 , BCV = 0.1346 \n"
     ]
    }
   ],
   "source": [
    "dgeGlm_normalized_ComDisp <- estimateGLMCommonDisp(dgeGlm_normalized, design, verbose = TRUE)\n",
    "\n",
    "# It estimates a common negative binomial dispersion parameter for a DGE dataset with a general experimental design.\n",
    "# The function uses the design matrix temporarily to estimate the dispersion."
   ]
  },
  {
   "cell_type": "code",
   "execution_count": 38,
   "metadata": {
    "vscode": {
     "languageId": "r"
    }
   },
   "outputs": [],
   "source": [
    "dgeGlm_normalized_TrendDisp <- estimateGLMTrendedDisp (dgeGlm_normalized_ComDisp, design)\n",
    "# print(dgeGlm_normalized_TrendDisp)\n",
    "\n",
    "# Trended dispersion is the mean dispersion across all genes with similar abundance.\n",
    "# It's the fitted value of the mean-dispersion trend."
   ]
  },
  {
   "cell_type": "code",
   "execution_count": 40,
   "metadata": {
    "vscode": {
     "languageId": "r"
    }
   },
   "outputs": [],
   "source": [
    "dgeGlm_normalized_TagDisp <- estimateGLMTagwiseDisp (dgeGlm_normalized_TrendDisp, design)\n",
    "# print(dgeGlm_normalized_TagDisp)"
   ]
  },
  {
   "cell_type": "code",
   "execution_count": null,
   "metadata": {
    "vscode": {
     "languageId": "r"
    }
   },
   "outputs": [
    {
     "data": {
      "image/png": "[encoded data removed]",
      "text/plain": [
       "plot without title"
      ]
     },
     "metadata": {
      "image/png": {
       "height": 420,
       "width": 420
      }
     },
     "output_type": "display_data"
    }
   ],
   "source": [
    "plotBCV(dgeGlm_normalized_TagDisp)"
   ]
  },
  {
   "cell_type": "code",
   "execution_count": 48,
   "metadata": {
    "vscode": {
     "languageId": "r"
    }
   },
   "outputs": [],
   "source": [
    "fit <- glmFit(dgeGlm_normalized_TagDisp, design)"
   ]
  },
  {
   "cell_type": "code",
   "execution_count": 50,
   "metadata": {
    "vscode": {
     "languageId": "r"
    }
   },
   "outputs": [
    {
     "data": {
      "text/html": [
       "<style>\n",
       ".list-inline {list-style: none; margin:0; padding: 0}\n",
       ".list-inline>li {display: inline-block}\n",
       ".list-inline>li:not(:last-child)::after {content: \"\\00b7\"; padding: 0 .5ex}\n",
       "</style>\n",
       "<ol class=list-inline><li>'(Intercept)'</li><li>'group2'</li></ol>\n"
      ],
      "text/latex": [
       "\\begin{enumerate*}\n",
       "\\item '(Intercept)'\n",
       "\\item 'group2'\n",
       "\\end{enumerate*}\n"
      ],
      "text/markdown": [
       "1. '(Intercept)'\n",
       "2. 'group2'\n",
       "\n",
       "\n"
      ],
      "text/plain": [
       "[1] \"(Intercept)\" \"group2\"     "
      ]
     },
     "metadata": {},
     "output_type": "display_data"
    },
    {
     "name": "stdout",
     "output_type": "stream",
     "text": [
      "An object of class \"DGELRT\"\n",
      "$coefficients\n",
      "                   (Intercept)      group2\n",
      "ENSMUSG00000102948  -12.862710  0.41054206\n",
      "ENSMUSG00000102269  -12.192324  0.05385963\n",
      "ENSMUSG00000098104   -9.588946  0.10727639\n",
      "ENSMUSG00000102175  -12.306281 -0.25925318\n",
      "ENSMUSG00000103922  -11.508113  0.16659796\n",
      "13193 more rows ...\n",
      "\n",
      "$fitted.values\n",
      "                   N4_50000_S1 N4_50000_S2 N4_50000_S3 N4_50000_S4 T4_50000_S6\n",
      "ENSMUSG00000102948    15.38568    15.36651    15.62129    14.70351    20.07383\n",
      "ENSMUSG00000102269    30.20808    30.17044    30.67068    28.86871    27.51458\n",
      "ENSMUSG00000098104   409.77990   409.26932   416.05513   391.61101   393.64168\n",
      "ENSMUSG00000102175    26.93999    26.90643    27.35254    25.74552    17.91043\n",
      "ENSMUSG00000103922    60.01129    59.93651    60.93028    57.35050    61.19045\n",
      "                   T4_50000_S7 T4_50000_S8\n",
      "ENSMUSG00000102948    19.82693    18.37061\n",
      "ENSMUSG00000102269    27.17615    25.18002\n",
      "ENSMUSG00000098104   388.79990   360.24191\n",
      "ENSMUSG00000102175    17.69013    16.39076\n",
      "ENSMUSG00000103922    60.43780    55.99855\n",
      "13193 more rows ...\n",
      "\n",
      "$deviance\n",
      "ENSMUSG00000102948 ENSMUSG00000102269 ENSMUSG00000098104 ENSMUSG00000102175 \n",
      "          7.816581           3.552392           4.850289           1.458491 \n",
      "ENSMUSG00000103922 \n",
      "          7.550896 \n",
      "13193 more elements ...\n",
      "\n",
      "$method\n",
      "[1] \"oneway\"\n",
      "\n",
      "$unshrunk.coefficients\n",
      "                   (Intercept)      group2\n",
      "ENSMUSG00000102948  -12.871459  0.41346928\n",
      "ENSMUSG00000102269  -12.196786  0.05409579\n",
      "ENSMUSG00000098104   -9.589275  0.10731008\n",
      "ENSMUSG00000102175  -12.311284 -0.26073951\n",
      "ENSMUSG00000103922  -11.510363  0.16694763\n",
      "13193 more rows ...\n",
      "\n",
      "$df.residual\n",
      "[1] 5 5 5 5 5\n",
      "13193 more elements ...\n",
      "\n",
      "$design\n",
      "  (Intercept) group2\n",
      "1           1      0\n",
      "2           1      0\n",
      "3           1      0\n",
      "4           1      0\n",
      "5           1      1\n",
      "6           1      1\n",
      "7           1      1\n",
      "attr(,\"assign\")\n",
      "[1] 0 1\n",
      "attr(,\"contrasts\")\n",
      "attr(,\"contrasts\")$group\n",
      "[1] \"contr.treatment\"\n",
      "\n",
      "\n",
      "$offset\n",
      "        [,1]     [,2]     [,3]     [,4]     [,5]     [,6]     [,7]\n",
      "[1,] 15.6049 15.60365 15.62009 15.55954 15.45741 15.44503 15.36874\n",
      "attr(,\"class\")\n",
      "[1] \"CompressedMatrix\"\n",
      "attr(,\"Dims\")\n",
      "[1] 5 7\n",
      "attr(,\"repeat.row\")\n",
      "[1] TRUE\n",
      "attr(,\"repeat.col\")\n",
      "[1] FALSE\n",
      "13193 more rows ...\n",
      "\n",
      "$dispersion\n",
      "[1] 0.179266788 0.056538126 0.009194461 0.050146203 0.053288733\n",
      "13193 more elements ...\n",
      "\n",
      "$prior.count\n",
      "[1] 0.125\n",
      "\n",
      "$samples\n",
      "            group lib.size norm.factors\n",
      "N4_50000_S1     1  5760708    1.0390686\n",
      "N4_50000_S2     1  5850581    1.0218323\n",
      "N4_50000_S3     1  5921966    1.0262529\n",
      "N4_50000_S4     1  5724311    0.9993120\n",
      "T4_50000_S6     2  5290806    0.9762128\n",
      "T4_50000_S7     2  5352408    0.9531082\n",
      "T4_50000_S8     2  4788787    0.9870382\n",
      "\n",
      "$prior.df\n",
      "[1] 10\n",
      "\n",
      "$AveLogCPM\n",
      "[1] 1.778064 2.465431 6.172133 2.153816 3.477973\n",
      "13193 more elements ...\n",
      "\n",
      "$table\n",
      "                         logFC   logCPM         LR    PValue\n",
      "ENSMUSG00000102948  0.59228699 1.778064 1.24364690 0.2647694\n",
      "ENSMUSG00000102269  0.07770301 2.465431 0.05438705 0.8155981\n",
      "ENSMUSG00000098104  0.15476712 6.172133 1.68413809 0.1943755\n",
      "ENSMUSG00000102175 -0.37402328 2.153816 1.17923164 0.2775125\n",
      "ENSMUSG00000103922  0.24035005 3.477973 0.68425837 0.4081242\n",
      "13193 more rows ...\n",
      "\n",
      "$comparison\n",
      "[1] \"group2\"\n",
      "\n",
      "$df.test\n",
      "[1] 1 1 1 1 1\n",
      "13193 more elements ...\n",
      "\n"
     ]
    }
   ],
   "source": [
    "colnames(coef(fit))\n",
    "lrt <- glmLRT(fit, coef=2)\n",
    "# str(lrt)\n",
    "print(lrt)"
   ]
  },
  {
   "cell_type": "code",
   "execution_count": null,
   "metadata": {
    "vscode": {
     "languageId": "r"
    }
   },
   "outputs": [
    {
     "name": "stdout",
     "output_type": "stream",
     "text": [
      "Formal class 'TopTags' [package \"edgeR\"] with 1 slot\n",
      "  ..@ .Data:List of 4\n",
      "  .. ..$ :'data.frame':\t13198 obs. of  5 variables:\n",
      "  .. .. ..$ logFC : num [1:13198] -1.755 -1.135 -1.186 1.105 0.825 ...\n",
      "  .. .. ..$ logCPM: num [1:13198] 6.96 8.53 9.69 6.97 8.27 ...\n",
      "  .. .. ..$ LR    : num [1:13198] 177 135.7 121.2 98.9 90.5 ...\n",
      "  .. .. ..$ PValue: num [1:13198] 2.17e-40 2.31e-31 3.46e-28 2.63e-23 1.89e-21 ...\n",
      "  .. .. ..$ FDR   : num [1:13198] 2.86e-36 1.52e-27 1.52e-24 8.69e-20 4.98e-18 ...\n",
      "  .. ..$ : chr \"BH\"\n",
      "  .. ..$ : chr \"group2\"\n",
      "  .. ..$ : chr \"glm\"\n",
      "  ..$ names: chr [1:4] \"table\" \"adjust.method\" \"comparison\" \"test\"\n"
     ]
    }
   ],
   "source": [
    "ttGlm <- topTags(lrt, n = Inf)\n",
    "str(ttGlm)\n",
    "# class(ttGlm)"
   ]
  },
  {
   "cell_type": "code",
   "execution_count": null,
   "metadata": {
    "vscode": {
     "languageId": "r"
    }
   },
   "outputs": [
    {
     "data": {
      "text/plain": [
       "       group2\n",
       "Down      730\n",
       "NotSig  11913\n",
       "Up        555"
      ]
     },
     "metadata": {},
     "output_type": "display_data"
    },
    {
     "data": {
      "image/png": "[encoded data removed]",
      "text/plain": [
       "plot without title"
      ]
     },
     "metadata": {
      "image/png": {
       "height": 420,
       "width": 420
      }
     },
     "output_type": "display_data"
    }
   ],
   "source": [
    "summary(dgeGlm_normalized_Tests <- decideTestsDGE(lrt, p = 0.05, adjust = \"fdr\"))\n",
    "tagsGlm <- rownames(dgeGlm_normalized_TagDisp)[as.logical(dgeGlm_normalized_Tests)]\n",
    "\n",
    "plotSmear(lrt, de.tags = tagsGlm)"
   ]
  },
  {
   "cell_type": "code",
   "execution_count": null,
   "metadata": {
    "vscode": {
     "languageId": "r"
    }
   },
   "outputs": [
    {
     "name": "stdout",
     "output_type": "stream",
     "text": [
      "'data.frame':\t1845 obs. of  5 variables:\n",
      " $ logFC : num  -1.755 -1.135 -1.186 1.105 0.825 ...\n",
      " $ logCPM: num  6.96 8.53 9.69 6.97 8.27 ...\n",
      " $ LR    : num  177 135.7 121.2 98.9 90.5 ...\n",
      " $ PValue: num  2.17e-40 2.31e-31 3.46e-28 2.63e-23 1.89e-21 ...\n",
      " $ FDR   : num  2.86e-36 1.52e-27 1.52e-24 8.69e-20 4.98e-18 ...\n"
     ]
    }
   ],
   "source": [
    "defg_1vs2 <- ttGlm$table[ttGlm$table$FDR < 0.1,]\n",
    "str(defg_1vs2)\n",
    "write.csv(defg_1vs2, \"/scratch/ag5cg/2023_08_28_Emma_Teixeiro_Influenza/results/DEG_EdgeR_1_vs_2.csv\")"
   ]
  },
  {
   "cell_type": "markdown",
   "metadata": {},
   "source": [
    "# Pathways"
   ]
  },
  {
   "cell_type": "markdown",
   "metadata": {},
   "source": [
    "## Read Tables"
   ]
  },
  {
   "cell_type": "code",
   "execution_count": null,
   "metadata": {
    "vscode": {
     "languageId": "r"
    }
   },
   "outputs": [
    {
     "data": {
      "text/html": [
       "<table class=\"dataframe\">\n",
       "<caption>A data.frame: 6 × 6</caption>\n",
       "<thead>\n",
       "\t<tr><th></th><th scope=col>mmu_name</th><th scope=col>category</th><th scope=col>region</th><th scope=col>external_gene_name</th><th scope=col>pathway_name</th><th scope=col>pathway</th></tr>\n",
       "\t<tr><th></th><th scope=col>&lt;chr&gt;</th><th scope=col>&lt;chr&gt;</th><th scope=col>&lt;chr&gt;</th><th scope=col>&lt;chr&gt;</th><th scope=col>&lt;chr&gt;</th><th scope=col>&lt;chr&gt;</th></tr>\n",
       "</thead>\n",
       "<tbody>\n",
       "\t<tr><th scope=row>204856</th><td>mmu:15130</td><td>CDS</td><td>7 E3; 7 54.85 cM</td><td>Hbb2 </td><td>mmu05143</td><td>African trypanosomiasis - Mus musculus (house mouse)</td></tr>\n",
       "\t<tr><th scope=row>204857</th><td>mmu:15130</td><td>CDS</td><td>7 E3; 7 54.85 cM</td><td>Hbb2 </td><td>mmu05144</td><td>Malaria - Mus musculus (house mouse)                </td></tr>\n",
       "\t<tr><th scope=row>204858</th><td>mmu:15130</td><td>CDS</td><td>7 E3; 7 54.85 cM</td><td>Hbbt2</td><td>mmu05143</td><td>African trypanosomiasis - Mus musculus (house mouse)</td></tr>\n",
       "\t<tr><th scope=row>204859</th><td>mmu:15130</td><td>CDS</td><td>7 E3; 7 54.85 cM</td><td>Hbbt2</td><td>mmu05144</td><td>Malaria - Mus musculus (house mouse)                </td></tr>\n",
       "\t<tr><th scope=row>204860</th><td>mmu:15130</td><td>CDS</td><td>7 E3; 7 54.85 cM</td><td>beta2</td><td>mmu05143</td><td>African trypanosomiasis - Mus musculus (house mouse)</td></tr>\n",
       "\t<tr><th scope=row>204861</th><td>mmu:15130</td><td>CDS</td><td>7 E3; 7 54.85 cM</td><td>beta2</td><td>mmu05144</td><td>Malaria - Mus musculus (house mouse)                </td></tr>\n",
       "</tbody>\n",
       "</table>\n"
      ],
      "text/latex": [
       "A data.frame: 6 × 6\n",
       "\\begin{tabular}{r|llllll}\n",
       "  & mmu\\_name & category & region & external\\_gene\\_name & pathway\\_name & pathway\\\\\n",
       "  & <chr> & <chr> & <chr> & <chr> & <chr> & <chr>\\\\\n",
       "\\hline\n",
       "\t204856 & mmu:15130 & CDS & 7 E3; 7 54.85 cM & Hbb2  & mmu05143 & African trypanosomiasis - Mus musculus (house mouse)\\\\\n",
       "\t204857 & mmu:15130 & CDS & 7 E3; 7 54.85 cM & Hbb2  & mmu05144 & Malaria - Mus musculus (house mouse)                \\\\\n",
       "\t204858 & mmu:15130 & CDS & 7 E3; 7 54.85 cM & Hbbt2 & mmu05143 & African trypanosomiasis - Mus musculus (house mouse)\\\\\n",
       "\t204859 & mmu:15130 & CDS & 7 E3; 7 54.85 cM & Hbbt2 & mmu05144 & Malaria - Mus musculus (house mouse)                \\\\\n",
       "\t204860 & mmu:15130 & CDS & 7 E3; 7 54.85 cM & beta2 & mmu05143 & African trypanosomiasis - Mus musculus (house mouse)\\\\\n",
       "\t204861 & mmu:15130 & CDS & 7 E3; 7 54.85 cM & beta2 & mmu05144 & Malaria - Mus musculus (house mouse)                \\\\\n",
       "\\end{tabular}\n"
      ],
      "text/markdown": [
       "\n",
       "A data.frame: 6 × 6\n",
       "\n",
       "| <!--/--> | mmu_name &lt;chr&gt; | category &lt;chr&gt; | region &lt;chr&gt; | external_gene_name &lt;chr&gt; | pathway_name &lt;chr&gt; | pathway &lt;chr&gt; |\n",
       "|---|---|---|---|---|---|---|\n",
       "| 204856 | mmu:15130 | CDS | 7 E3; 7 54.85 cM | Hbb2  | mmu05143 | African trypanosomiasis - Mus musculus (house mouse) |\n",
       "| 204857 | mmu:15130 | CDS | 7 E3; 7 54.85 cM | Hbb2  | mmu05144 | Malaria - Mus musculus (house mouse)                 |\n",
       "| 204858 | mmu:15130 | CDS | 7 E3; 7 54.85 cM | Hbbt2 | mmu05143 | African trypanosomiasis - Mus musculus (house mouse) |\n",
       "| 204859 | mmu:15130 | CDS | 7 E3; 7 54.85 cM | Hbbt2 | mmu05144 | Malaria - Mus musculus (house mouse)                 |\n",
       "| 204860 | mmu:15130 | CDS | 7 E3; 7 54.85 cM | beta2 | mmu05143 | African trypanosomiasis - Mus musculus (house mouse) |\n",
       "| 204861 | mmu:15130 | CDS | 7 E3; 7 54.85 cM | beta2 | mmu05144 | Malaria - Mus musculus (house mouse)                 |\n",
       "\n"
      ],
      "text/plain": [
       "       mmu_name  category region           external_gene_name pathway_name\n",
       "204856 mmu:15130 CDS      7 E3; 7 54.85 cM Hbb2               mmu05143    \n",
       "204857 mmu:15130 CDS      7 E3; 7 54.85 cM Hbb2               mmu05144    \n",
       "204858 mmu:15130 CDS      7 E3; 7 54.85 cM Hbbt2              mmu05143    \n",
       "204859 mmu:15130 CDS      7 E3; 7 54.85 cM Hbbt2              mmu05144    \n",
       "204860 mmu:15130 CDS      7 E3; 7 54.85 cM beta2              mmu05143    \n",
       "204861 mmu:15130 CDS      7 E3; 7 54.85 cM beta2              mmu05144    \n",
       "       pathway                                             \n",
       "204856 African trypanosomiasis - Mus musculus (house mouse)\n",
       "204857 Malaria - Mus musculus (house mouse)                \n",
       "204858 African trypanosomiasis - Mus musculus (house mouse)\n",
       "204859 Malaria - Mus musculus (house mouse)                \n",
       "204860 African trypanosomiasis - Mus musculus (house mouse)\n",
       "204861 Malaria - Mus musculus (house mouse)                "
      ]
     },
     "metadata": {},
     "output_type": "display_data"
    }
   ],
   "source": [
    "# kegg file has the path ways but ensembl_gene_id is not available\n",
    "kegg_mmu <- read.table(file = \"/scratch/ag5cg/2023_08_28_Emma_Teixeiro_Influenza/kegg_bm_mmu/kegg_mmu.txt\", header = TRUE)\n",
    "tail(kegg_mmu)"
   ]
  },
  {
   "cell_type": "code",
   "execution_count": null,
   "metadata": {
    "vscode": {
     "languageId": "r"
    }
   },
   "outputs": [
    {
     "data": {
      "text/html": [
       "<table class=\"dataframe\">\n",
       "<caption>A data.frame: 6 × 8</caption>\n",
       "<thead>\n",
       "\t<tr><th></th><th scope=col>ensembl_gene_id</th><th scope=col>external_gene_name</th><th scope=col>chromosome_name</th><th scope=col>start_position</th><th scope=col>end_position</th><th scope=col>strand</th><th scope=col>gene_biotype</th><th scope=col>description</th></tr>\n",
       "\t<tr><th></th><th scope=col>&lt;chr&gt;</th><th scope=col>&lt;chr&gt;</th><th scope=col>&lt;chr&gt;</th><th scope=col>&lt;int&gt;</th><th scope=col>&lt;int&gt;</th><th scope=col>&lt;int&gt;</th><th scope=col>&lt;chr&gt;</th><th scope=col>&lt;chr&gt;</th></tr>\n",
       "</thead>\n",
       "<tbody>\n",
       "\t<tr><th scope=row>56936</th><td>ENSMUSG00000039715</td><td>Dync2i2      </td><td>2</td><td>29921558</td><td>29938893</td><td>-1</td><td>protein_coding</td><td>dynein 2 intermediate chain 2 [Source:MGI Symbol;Acc:MGI:1919070]         </td></tr>\n",
       "\t<tr><th scope=row>56937</th><td>ENSMUSG00000054766</td><td>Set          </td><td>2</td><td>29947390</td><td>29962589</td><td> 1</td><td>protein_coding</td><td>SET nuclear oncogene [Source:MGI Symbol;Acc:MGI:1860267]                  </td></tr>\n",
       "\t<tr><th scope=row>56938</th><td>ENSMUSG00000026785</td><td>Pkn3         </td><td>2</td><td>29967696</td><td>29981034</td><td> 1</td><td>protein_coding</td><td>protein kinase N3 [Source:MGI Symbol;Acc:MGI:2388285]                     </td></tr>\n",
       "\t<tr><th scope=row>56939</th><td>ENSMUSG00000015335</td><td>Zdhhc12      </td><td>2</td><td>29980956</td><td>29983660</td><td>-1</td><td>protein_coding</td><td>zinc finger, DHHC domain containing 12 [Source:MGI Symbol;Acc:MGI:1913470]</td></tr>\n",
       "\t<tr><th scope=row>56940</th><td>ENSMUSG00000039686</td><td>Zer1         </td><td>2</td><td>29987295</td><td>30014597</td><td>-1</td><td>protein_coding</td><td>zyg-11 related, cell cycle regulator [Source:MGI Symbol;Acc:MGI:2442511]  </td></tr>\n",
       "\t<tr><th scope=row>56941</th><td>ENSMUSG00000100747</td><td>1700084E18Rik</td><td>2</td><td>30126807</td><td>30128235</td><td>-1</td><td>lncRNA        </td><td>RIKEN cDNA 1700084E18 gene [Source:MGI Symbol;Acc:MGI:1914600]            </td></tr>\n",
       "</tbody>\n",
       "</table>\n"
      ],
      "text/latex": [
       "A data.frame: 6 × 8\n",
       "\\begin{tabular}{r|llllllll}\n",
       "  & ensembl\\_gene\\_id & external\\_gene\\_name & chromosome\\_name & start\\_position & end\\_position & strand & gene\\_biotype & description\\\\\n",
       "  & <chr> & <chr> & <chr> & <int> & <int> & <int> & <chr> & <chr>\\\\\n",
       "\\hline\n",
       "\t56936 & ENSMUSG00000039715 & Dync2i2       & 2 & 29921558 & 29938893 & -1 & protein\\_coding & dynein 2 intermediate chain 2 {[}Source:MGI Symbol;Acc:MGI:1919070{]}         \\\\\n",
       "\t56937 & ENSMUSG00000054766 & Set           & 2 & 29947390 & 29962589 &  1 & protein\\_coding & SET nuclear oncogene {[}Source:MGI Symbol;Acc:MGI:1860267{]}                  \\\\\n",
       "\t56938 & ENSMUSG00000026785 & Pkn3          & 2 & 29967696 & 29981034 &  1 & protein\\_coding & protein kinase N3 {[}Source:MGI Symbol;Acc:MGI:2388285{]}                     \\\\\n",
       "\t56939 & ENSMUSG00000015335 & Zdhhc12       & 2 & 29980956 & 29983660 & -1 & protein\\_coding & zinc finger, DHHC domain containing 12 {[}Source:MGI Symbol;Acc:MGI:1913470{]}\\\\\n",
       "\t56940 & ENSMUSG00000039686 & Zer1          & 2 & 29987295 & 30014597 & -1 & protein\\_coding & zyg-11 related, cell cycle regulator {[}Source:MGI Symbol;Acc:MGI:2442511{]}  \\\\\n",
       "\t56941 & ENSMUSG00000100747 & 1700084E18Rik & 2 & 30126807 & 30128235 & -1 & lncRNA         & RIKEN cDNA 1700084E18 gene {[}Source:MGI Symbol;Acc:MGI:1914600{]}            \\\\\n",
       "\\end{tabular}\n"
      ],
      "text/markdown": [
       "\n",
       "A data.frame: 6 × 8\n",
       "\n",
       "| <!--/--> | ensembl_gene_id &lt;chr&gt; | external_gene_name &lt;chr&gt; | chromosome_name &lt;chr&gt; | start_position &lt;int&gt; | end_position &lt;int&gt; | strand &lt;int&gt; | gene_biotype &lt;chr&gt; | description &lt;chr&gt; |\n",
       "|---|---|---|---|---|---|---|---|---|\n",
       "| 56936 | ENSMUSG00000039715 | Dync2i2       | 2 | 29921558 | 29938893 | -1 | protein_coding | dynein 2 intermediate chain 2 [Source:MGI Symbol;Acc:MGI:1919070]          |\n",
       "| 56937 | ENSMUSG00000054766 | Set           | 2 | 29947390 | 29962589 |  1 | protein_coding | SET nuclear oncogene [Source:MGI Symbol;Acc:MGI:1860267]                   |\n",
       "| 56938 | ENSMUSG00000026785 | Pkn3          | 2 | 29967696 | 29981034 |  1 | protein_coding | protein kinase N3 [Source:MGI Symbol;Acc:MGI:2388285]                      |\n",
       "| 56939 | ENSMUSG00000015335 | Zdhhc12       | 2 | 29980956 | 29983660 | -1 | protein_coding | zinc finger, DHHC domain containing 12 [Source:MGI Symbol;Acc:MGI:1913470] |\n",
       "| 56940 | ENSMUSG00000039686 | Zer1          | 2 | 29987295 | 30014597 | -1 | protein_coding | zyg-11 related, cell cycle regulator [Source:MGI Symbol;Acc:MGI:2442511]   |\n",
       "| 56941 | ENSMUSG00000100747 | 1700084E18Rik | 2 | 30126807 | 30128235 | -1 | lncRNA         | RIKEN cDNA 1700084E18 gene [Source:MGI Symbol;Acc:MGI:1914600]             |\n",
       "\n"
      ],
      "text/plain": [
       "      ensembl_gene_id    external_gene_name chromosome_name start_position\n",
       "56936 ENSMUSG00000039715 Dync2i2            2               29921558      \n",
       "56937 ENSMUSG00000054766 Set                2               29947390      \n",
       "56938 ENSMUSG00000026785 Pkn3               2               29967696      \n",
       "56939 ENSMUSG00000015335 Zdhhc12            2               29980956      \n",
       "56940 ENSMUSG00000039686 Zer1               2               29987295      \n",
       "56941 ENSMUSG00000100747 1700084E18Rik      2               30126807      \n",
       "      end_position strand gene_biotype  \n",
       "56936 29938893     -1     protein_coding\n",
       "56937 29962589      1     protein_coding\n",
       "56938 29981034      1     protein_coding\n",
       "56939 29983660     -1     protein_coding\n",
       "56940 30014597     -1     protein_coding\n",
       "56941 30128235     -1     lncRNA        \n",
       "      description                                                               \n",
       "56936 dynein 2 intermediate chain 2 [Source:MGI Symbol;Acc:MGI:1919070]         \n",
       "56937 SET nuclear oncogene [Source:MGI Symbol;Acc:MGI:1860267]                  \n",
       "56938 protein kinase N3 [Source:MGI Symbol;Acc:MGI:2388285]                     \n",
       "56939 zinc finger, DHHC domain containing 12 [Source:MGI Symbol;Acc:MGI:1913470]\n",
       "56940 zyg-11 related, cell cycle regulator [Source:MGI Symbol;Acc:MGI:2442511]  \n",
       "56941 RIKEN cDNA 1700084E18 gene [Source:MGI Symbol;Acc:MGI:1914600]            "
      ]
     },
     "metadata": {},
     "output_type": "display_data"
    }
   ],
   "source": [
    "# to get the ensembl_gene_id associate4d with the external_gene_name we are using this file\n",
    "bm_mmu <- read.table(file = \"/scratch/ag5cg/2023_08_28_Emma_Teixeiro_Influenza/kegg_bm_mmu/bm_mmu.txt\", header = TRUE)\n",
    "tail(bm_mmu)"
   ]
  },
  {
   "cell_type": "code",
   "execution_count": null,
   "metadata": {
    "vscode": {
     "languageId": "r"
    }
   },
   "outputs": [
    {
     "data": {
      "text/html": [
       "<table class=\"dataframe\">\n",
       "<caption>A data.frame: 6 × 6</caption>\n",
       "<thead>\n",
       "\t<tr><th></th><th scope=col>ensembl_gene_id</th><th scope=col>logFC</th><th scope=col>logCPM</th><th scope=col>LR</th><th scope=col>PValue</th><th scope=col>FDR</th></tr>\n",
       "\t<tr><th></th><th scope=col>&lt;chr&gt;</th><th scope=col>&lt;dbl&gt;</th><th scope=col>&lt;dbl&gt;</th><th scope=col>&lt;dbl&gt;</th><th scope=col>&lt;dbl&gt;</th><th scope=col>&lt;dbl&gt;</th></tr>\n",
       "</thead>\n",
       "<tbody>\n",
       "\t<tr><th scope=row>1840</th><td>ENSMUSG00000029516</td><td>-0.7844909</td><td>2.847223</td><td>6.063522</td><td>0.01380022</td><td>0.09898656</td></tr>\n",
       "\t<tr><th scope=row>1841</th><td>ENSMUSG00000024319</td><td>-0.3468158</td><td>4.929401</td><td>6.060156</td><td>0.01382655</td><td>0.09912154</td></tr>\n",
       "\t<tr><th scope=row>1842</th><td>ENSMUSG00000095524</td><td> 0.6428896</td><td>2.865234</td><td>6.052903</td><td>0.01388346</td><td>0.09944404</td></tr>\n",
       "\t<tr><th scope=row>1843</th><td>ENSMUSG00000038346</td><td>-0.3169545</td><td>5.372781</td><td>6.052503</td><td>0.01388660</td><td>0.09944404</td></tr>\n",
       "\t<tr><th scope=row>1844</th><td>ENSMUSG00000038271</td><td>-0.4489841</td><td>4.466885</td><td>6.047582</td><td>0.01392535</td><td>0.09966747</td></tr>\n",
       "\t<tr><th scope=row>1845</th><td>ENSMUSG00000050390</td><td> 1.0238452</td><td>2.448871</td><td>6.043419</td><td>0.01395823</td><td>0.09984862</td></tr>\n",
       "</tbody>\n",
       "</table>\n"
      ],
      "text/latex": [
       "A data.frame: 6 × 6\n",
       "\\begin{tabular}{r|llllll}\n",
       "  & ensembl\\_gene\\_id & logFC & logCPM & LR & PValue & FDR\\\\\n",
       "  & <chr> & <dbl> & <dbl> & <dbl> & <dbl> & <dbl>\\\\\n",
       "\\hline\n",
       "\t1840 & ENSMUSG00000029516 & -0.7844909 & 2.847223 & 6.063522 & 0.01380022 & 0.09898656\\\\\n",
       "\t1841 & ENSMUSG00000024319 & -0.3468158 & 4.929401 & 6.060156 & 0.01382655 & 0.09912154\\\\\n",
       "\t1842 & ENSMUSG00000095524 &  0.6428896 & 2.865234 & 6.052903 & 0.01388346 & 0.09944404\\\\\n",
       "\t1843 & ENSMUSG00000038346 & -0.3169545 & 5.372781 & 6.052503 & 0.01388660 & 0.09944404\\\\\n",
       "\t1844 & ENSMUSG00000038271 & -0.4489841 & 4.466885 & 6.047582 & 0.01392535 & 0.09966747\\\\\n",
       "\t1845 & ENSMUSG00000050390 &  1.0238452 & 2.448871 & 6.043419 & 0.01395823 & 0.09984862\\\\\n",
       "\\end{tabular}\n"
      ],
      "text/markdown": [
       "\n",
       "A data.frame: 6 × 6\n",
       "\n",
       "| <!--/--> | ensembl_gene_id &lt;chr&gt; | logFC &lt;dbl&gt; | logCPM &lt;dbl&gt; | LR &lt;dbl&gt; | PValue &lt;dbl&gt; | FDR &lt;dbl&gt; |\n",
       "|---|---|---|---|---|---|---|\n",
       "| 1840 | ENSMUSG00000029516 | -0.7844909 | 2.847223 | 6.063522 | 0.01380022 | 0.09898656 |\n",
       "| 1841 | ENSMUSG00000024319 | -0.3468158 | 4.929401 | 6.060156 | 0.01382655 | 0.09912154 |\n",
       "| 1842 | ENSMUSG00000095524 |  0.6428896 | 2.865234 | 6.052903 | 0.01388346 | 0.09944404 |\n",
       "| 1843 | ENSMUSG00000038346 | -0.3169545 | 5.372781 | 6.052503 | 0.01388660 | 0.09944404 |\n",
       "| 1844 | ENSMUSG00000038271 | -0.4489841 | 4.466885 | 6.047582 | 0.01392535 | 0.09966747 |\n",
       "| 1845 | ENSMUSG00000050390 |  1.0238452 | 2.448871 | 6.043419 | 0.01395823 | 0.09984862 |\n",
       "\n"
      ],
      "text/plain": [
       "     ensembl_gene_id    logFC      logCPM   LR       PValue     FDR       \n",
       "1840 ENSMUSG00000029516 -0.7844909 2.847223 6.063522 0.01380022 0.09898656\n",
       "1841 ENSMUSG00000024319 -0.3468158 4.929401 6.060156 0.01382655 0.09912154\n",
       "1842 ENSMUSG00000095524  0.6428896 2.865234 6.052903 0.01388346 0.09944404\n",
       "1843 ENSMUSG00000038346 -0.3169545 5.372781 6.052503 0.01388660 0.09944404\n",
       "1844 ENSMUSG00000038271 -0.4489841 4.466885 6.047582 0.01392535 0.09966747\n",
       "1845 ENSMUSG00000050390  1.0238452 2.448871 6.043419 0.01395823 0.09984862"
      ]
     },
     "metadata": {},
     "output_type": "display_data"
    }
   ],
   "source": [
    "defg_1vs2 <- read.csv(file = \"/scratch/ag5cg/2023_08_28_Emma_Teixeiro_Influenza/results/DEG_EdgeR_1_vs_2.csv\", header = TRUE)\n",
    "colnames(defg_1vs2)[1] <- \"ensembl_gene_id\"\n",
    "tail(defg_1vs2)"
   ]
  },
  {
   "cell_type": "markdown",
   "metadata": {},
   "source": [
    "## Merge"
   ]
  },
  {
   "cell_type": "code",
   "execution_count": null,
   "metadata": {
    "vscode": {
     "languageId": "r"
    }
   },
   "outputs": [
    {
     "data": {
      "text/html": [
       "<table class=\"dataframe\">\n",
       "<caption>A data.frame: 6 × 6</caption>\n",
       "<thead>\n",
       "\t<tr><th></th><th scope=col>external_gene_name</th><th scope=col>ensembl_gene_id</th><th scope=col>logFC</th><th scope=col>logCPM</th><th scope=col>PValue</th><th scope=col>FDR</th></tr>\n",
       "\t<tr><th></th><th scope=col>&lt;chr&gt;</th><th scope=col>&lt;chr&gt;</th><th scope=col>&lt;dbl&gt;</th><th scope=col>&lt;dbl&gt;</th><th scope=col>&lt;dbl&gt;</th><th scope=col>&lt;dbl&gt;</th></tr>\n",
       "</thead>\n",
       "<tbody>\n",
       "\t<tr><th scope=row>1822</th><td>Aldoa-ps4</td><td>ENSMUSG00000111336</td><td>-0.7329402</td><td>2.946196</td><td>7.478161e-03</td><td>6.610634e-02</td></tr>\n",
       "\t<tr><th scope=row>1823</th><td>Gm47050  </td><td>ENSMUSG00000111546</td><td> 2.0345687</td><td>2.883186</td><td>9.894778e-09</td><td>1.483992e-06</td></tr>\n",
       "\t<tr><th scope=row>1824</th><td>Gm4977   </td><td>ENSMUSG00000111613</td><td> 0.2974393</td><td>6.420831</td><td>6.752465e-03</td><td>6.180238e-02</td></tr>\n",
       "\t<tr><th scope=row>1825</th><td>Gm8543   </td><td>ENSMUSG00000111684</td><td> 0.5391290</td><td>6.010039</td><td>2.985342e-05</td><td>1.076517e-03</td></tr>\n",
       "\t<tr><th scope=row>1826</th><td>Gm48720  </td><td>ENSMUSG00000111690</td><td>-0.4512521</td><td>5.086407</td><td>2.400589e-03</td><td>3.020303e-02</td></tr>\n",
       "\t<tr><th scope=row>1827</th><td>Gm6477   </td><td>ENSMUSG00000111877</td><td> 0.3471048</td><td>5.764690</td><td>1.879018e-03</td><td>2.546127e-02</td></tr>\n",
       "</tbody>\n",
       "</table>\n"
      ],
      "text/latex": [
       "A data.frame: 6 × 6\n",
       "\\begin{tabular}{r|llllll}\n",
       "  & external\\_gene\\_name & ensembl\\_gene\\_id & logFC & logCPM & PValue & FDR\\\\\n",
       "  & <chr> & <chr> & <dbl> & <dbl> & <dbl> & <dbl>\\\\\n",
       "\\hline\n",
       "\t1822 & Aldoa-ps4 & ENSMUSG00000111336 & -0.7329402 & 2.946196 & 7.478161e-03 & 6.610634e-02\\\\\n",
       "\t1823 & Gm47050   & ENSMUSG00000111546 &  2.0345687 & 2.883186 & 9.894778e-09 & 1.483992e-06\\\\\n",
       "\t1824 & Gm4977    & ENSMUSG00000111613 &  0.2974393 & 6.420831 & 6.752465e-03 & 6.180238e-02\\\\\n",
       "\t1825 & Gm8543    & ENSMUSG00000111684 &  0.5391290 & 6.010039 & 2.985342e-05 & 1.076517e-03\\\\\n",
       "\t1826 & Gm48720   & ENSMUSG00000111690 & -0.4512521 & 5.086407 & 2.400589e-03 & 3.020303e-02\\\\\n",
       "\t1827 & Gm6477    & ENSMUSG00000111877 &  0.3471048 & 5.764690 & 1.879018e-03 & 2.546127e-02\\\\\n",
       "\\end{tabular}\n"
      ],
      "text/markdown": [
       "\n",
       "A data.frame: 6 × 6\n",
       "\n",
       "| <!--/--> | external_gene_name &lt;chr&gt; | ensembl_gene_id &lt;chr&gt; | logFC &lt;dbl&gt; | logCPM &lt;dbl&gt; | PValue &lt;dbl&gt; | FDR &lt;dbl&gt; |\n",
       "|---|---|---|---|---|---|---|\n",
       "| 1822 | Aldoa-ps4 | ENSMUSG00000111336 | -0.7329402 | 2.946196 | 7.478161e-03 | 6.610634e-02 |\n",
       "| 1823 | Gm47050   | ENSMUSG00000111546 |  2.0345687 | 2.883186 | 9.894778e-09 | 1.483992e-06 |\n",
       "| 1824 | Gm4977    | ENSMUSG00000111613 |  0.2974393 | 6.420831 | 6.752465e-03 | 6.180238e-02 |\n",
       "| 1825 | Gm8543    | ENSMUSG00000111684 |  0.5391290 | 6.010039 | 2.985342e-05 | 1.076517e-03 |\n",
       "| 1826 | Gm48720   | ENSMUSG00000111690 | -0.4512521 | 5.086407 | 2.400589e-03 | 3.020303e-02 |\n",
       "| 1827 | Gm6477    | ENSMUSG00000111877 |  0.3471048 | 5.764690 | 1.879018e-03 | 2.546127e-02 |\n",
       "\n"
      ],
      "text/plain": [
       "     external_gene_name ensembl_gene_id    logFC      logCPM   PValue      \n",
       "1822 Aldoa-ps4          ENSMUSG00000111336 -0.7329402 2.946196 7.478161e-03\n",
       "1823 Gm47050            ENSMUSG00000111546  2.0345687 2.883186 9.894778e-09\n",
       "1824 Gm4977             ENSMUSG00000111613  0.2974393 6.420831 6.752465e-03\n",
       "1825 Gm8543             ENSMUSG00000111684  0.5391290 6.010039 2.985342e-05\n",
       "1826 Gm48720            ENSMUSG00000111690 -0.4512521 5.086407 2.400589e-03\n",
       "1827 Gm6477             ENSMUSG00000111877  0.3471048 5.764690 1.879018e-03\n",
       "     FDR         \n",
       "1822 6.610634e-02\n",
       "1823 1.483992e-06\n",
       "1824 6.180238e-02\n",
       "1825 1.076517e-03\n",
       "1826 3.020303e-02\n",
       "1827 2.546127e-02"
      ]
     },
     "metadata": {},
     "output_type": "display_data"
    }
   ],
   "source": [
    "# merged to use it with the results\n",
    "bm_mmu_gene_id_name_only <- bm_mmu[,c(\"ensembl_gene_id\",\"external_gene_name\")]\n",
    "defg_1vs2_external_gene_name <-merge(defg_1vs2, bm_mmu_gene_id_name_only, by = \"ensembl_gene_id\")\n",
    "defg_1vs2_external_gene_name <- defg_1vs2_external_gene_name[,c(\"external_gene_name\",\"ensembl_gene_id\",\"logFC\",\"logCPM\",\"PValue\",\"FDR\")]\n",
    "tail(defg_1vs2_external_gene_name)\n",
    "write.csv(defg_1vs2_external_gene_name, \"/scratch/ag5cg/2023_08_28_Emma_Teixeiro_Influenza/results/defg_1vs2_external_gene_name.csv\")"
   ]
  },
  {
   "cell_type": "code",
   "execution_count": null,
   "metadata": {
    "vscode": {
     "languageId": "r"
    }
   },
   "outputs": [],
   "source": [
    "# # merged to use it with the results\n",
    "# kegg_bm_mmu <-merge(kegg_mmu, bm_mmu, by = \"external_gene_name\")\n",
    "# tail(kegg_bm_mmu)"
   ]
  },
  {
   "cell_type": "code",
   "execution_count": null,
   "metadata": {
    "vscode": {
     "languageId": "r"
    }
   },
   "outputs": [],
   "source": [
    "# defg_1vs2_kegg_bm_mmu <-merge(defg_1vs2, kegg_bm_mmu, by = \"ensembl_gene_id\")\n",
    "# tail(defg_1vs2_kegg_bm_mmu)\n",
    "# write.csv(defg_1vs2_kegg_bm_mmu, \"/scratch/ag5cg/2023_08_28_Emma_Teixeiro_Influenza/results/defg_1vs2_kegg_bm_mmu.csv\")"
   ]
  },
  {
   "cell_type": "code",
   "execution_count": null,
   "metadata": {
    "vscode": {
     "languageId": "r"
    }
   },
   "outputs": [],
   "source": [
    "# defg_1vs2_kegg_bm_mmu %>% group_by(ensembl_gene_id) %>% summarise(Count = n())"
   ]
  },
  {
   "cell_type": "code",
   "execution_count": null,
   "metadata": {
    "vscode": {
     "languageId": "r"
    }
   },
   "outputs": [],
   "source": [
    "# UpGenes <- defg_1vs2_kegg_bm_mmu[ defg_1vs2_kegg_bm_mmu$logFC > 0, ]\n",
    "# DownGenes <- defg_1vs2_kegg_bm_mmu[ defg_1vs2_kegg_bm_mmu$logFC < 0,]\n",
    "\n",
    "# write.csv(UpGenes, \"/scratch/ag5cg/2023_08_28_Emma_Teixeiro_Influenza/results/UpGenes.csv\")\n",
    "# write.csv(DownGenes, \"/scratch/ag5cg/2023_08_28_Emma_Teixeiro_Influenza/results/DownGenes.csv\")\n"
   ]
  },
  {
   "cell_type": "code",
   "execution_count": null,
   "metadata": {
    "vscode": {
     "languageId": "r"
    }
   },
   "outputs": [],
   "source": []
  }
 ],
 "metadata": {
  "kernelspec": {
   "display_name": "R",
   "language": "R",
   "name": "ir"
  },
  "language_info": {
   "codemirror_mode": "r",
   "file_extension": ".r",
   "mimetype": "text/x-r-source",
   "name": "R",
   "pygments_lexer": "r",
   "version": "4.3.0"
  },
  "orig_nbformat": 4
 },
 "nbformat": 4,
 "nbformat_minor": 2
}
